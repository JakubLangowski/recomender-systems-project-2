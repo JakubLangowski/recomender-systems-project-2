{
 "cells": [
  {
   "cell_type": "code",
   "execution_count": 1,
   "id": "alike-morgan",
   "metadata": {},
   "outputs": [],
   "source": [
    "%matplotlib inline\n",
    "%load_ext autoreload\n",
    "%autoreload 2\n",
    "\n",
    "import numpy as np\n",
    "import pandas as pd\n",
    "from IPython.display import display, HTML\n",
    "\n",
    "import torch\n",
    "import torch.nn as nn\n",
    "import torch.optim as optim\n",
    "from livelossplot import PlotLosses\n",
    "\n",
    "import os\n",
    "\n",
    "os.environ['KMP_DUPLICATE_LIB_OK'] = 'True'"
   ]
  },
  {
   "cell_type": "markdown",
   "id": "blessed-knitting",
   "metadata": {},
   "source": [
    "# Load the dataset for recommenders"
   ]
  },
  {
   "cell_type": "code",
   "execution_count": 2,
   "id": "victorian-bottom",
   "metadata": {},
   "outputs": [
    {
     "data": {
      "text/plain": "<IPython.core.display.HTML object>",
      "text/html": "<table border=\"1\" class=\"dataframe\">\n  <thead>\n    <tr style=\"text-align: right;\">\n      <th></th>\n      <th>user_id</th>\n      <th>item_id</th>\n      <th>term</th>\n      <th>length_of_stay_bucket</th>\n      <th>rate_plan</th>\n      <th>room_segment</th>\n      <th>n_people_bucket</th>\n      <th>weekend_stay</th>\n    </tr>\n  </thead>\n  <tbody>\n    <tr>\n      <th>0</th>\n      <td>1</td>\n      <td>0</td>\n      <td>WinterVacation</td>\n      <td>[2-3]</td>\n      <td>Standard</td>\n      <td>[260-360]</td>\n      <td>[5-inf]</td>\n      <td>True</td>\n    </tr>\n    <tr>\n      <th>1</th>\n      <td>2</td>\n      <td>1</td>\n      <td>WinterVacation</td>\n      <td>[2-3]</td>\n      <td>Standard</td>\n      <td>[160-260]</td>\n      <td>[3-4]</td>\n      <td>True</td>\n    </tr>\n    <tr>\n      <th>2</th>\n      <td>3</td>\n      <td>2</td>\n      <td>WinterVacation</td>\n      <td>[2-3]</td>\n      <td>Standard</td>\n      <td>[160-260]</td>\n      <td>[2-2]</td>\n      <td>False</td>\n    </tr>\n    <tr>\n      <th>3</th>\n      <td>4</td>\n      <td>3</td>\n      <td>WinterVacation</td>\n      <td>[4-7]</td>\n      <td>Standard</td>\n      <td>[160-260]</td>\n      <td>[3-4]</td>\n      <td>True</td>\n    </tr>\n    <tr>\n      <th>4</th>\n      <td>5</td>\n      <td>4</td>\n      <td>WinterVacation</td>\n      <td>[4-7]</td>\n      <td>Standard</td>\n      <td>[0-160]</td>\n      <td>[2-2]</td>\n      <td>True</td>\n    </tr>\n    <tr>\n      <th>5</th>\n      <td>6</td>\n      <td>5</td>\n      <td>Easter</td>\n      <td>[4-7]</td>\n      <td>Standard</td>\n      <td>[260-360]</td>\n      <td>[5-inf]</td>\n      <td>True</td>\n    </tr>\n    <tr>\n      <th>6</th>\n      <td>7</td>\n      <td>6</td>\n      <td>OffSeason</td>\n      <td>[2-3]</td>\n      <td>Standard</td>\n      <td>[260-360]</td>\n      <td>[5-inf]</td>\n      <td>True</td>\n    </tr>\n    <tr>\n      <th>7</th>\n      <td>8</td>\n      <td>7</td>\n      <td>HighSeason</td>\n      <td>[2-3]</td>\n      <td>Standard</td>\n      <td>[160-260]</td>\n      <td>[1-1]</td>\n      <td>True</td>\n    </tr>\n    <tr>\n      <th>8</th>\n      <td>9</td>\n      <td>8</td>\n      <td>HighSeason</td>\n      <td>[2-3]</td>\n      <td>Standard</td>\n      <td>[0-160]</td>\n      <td>[1-1]</td>\n      <td>True</td>\n    </tr>\n    <tr>\n      <th>9</th>\n      <td>8</td>\n      <td>7</td>\n      <td>HighSeason</td>\n      <td>[2-3]</td>\n      <td>Standard</td>\n      <td>[160-260]</td>\n      <td>[1-1]</td>\n      <td>True</td>\n    </tr>\n    <tr>\n      <th>10</th>\n      <td>8</td>\n      <td>7</td>\n      <td>HighSeason</td>\n      <td>[2-3]</td>\n      <td>Standard</td>\n      <td>[160-260]</td>\n      <td>[1-1]</td>\n      <td>True</td>\n    </tr>\n    <tr>\n      <th>11</th>\n      <td>10</td>\n      <td>9</td>\n      <td>HighSeason</td>\n      <td>[2-3]</td>\n      <td>Standard</td>\n      <td>[160-260]</td>\n      <td>[3-4]</td>\n      <td>True</td>\n    </tr>\n    <tr>\n      <th>12</th>\n      <td>11</td>\n      <td>9</td>\n      <td>HighSeason</td>\n      <td>[2-3]</td>\n      <td>Standard</td>\n      <td>[160-260]</td>\n      <td>[3-4]</td>\n      <td>True</td>\n    </tr>\n    <tr>\n      <th>13</th>\n      <td>12</td>\n      <td>10</td>\n      <td>HighSeason</td>\n      <td>[8-inf]</td>\n      <td>Standard</td>\n      <td>[160-260]</td>\n      <td>[3-4]</td>\n      <td>True</td>\n    </tr>\n    <tr>\n      <th>14</th>\n      <td>15</td>\n      <td>11</td>\n      <td>LowSeason</td>\n      <td>[2-3]</td>\n      <td>Standard</td>\n      <td>[160-260]</td>\n      <td>[5-inf]</td>\n      <td>True</td>\n    </tr>\n  </tbody>\n</table>"
     },
     "metadata": {},
     "output_type": "display_data"
    }
   ],
   "source": [
    "data_path = os.path.join(\"data\", \"hotel_data\")\n",
    "\n",
    "interactions_data = pd.read_csv(os.path.join(data_path, \"hotel_data_interactions_df.csv\"), index_col=0)\n",
    "\n",
    "base_item_features = ['term', 'length_of_stay_bucket', 'rate_plan', 'room_segment', 'n_people_bucket', 'weekend_stay']\n",
    "\n",
    "column_values_dict = {\n",
    "    'term': ['WinterVacation', 'Easter', 'OffSeason', 'HighSeason', 'LowSeason', 'MayLongWeekend', 'NewYear',\n",
    "             'Christmas'],\n",
    "    'length_of_stay_bucket': ['[0-1]', '[2-3]', '[4-7]', '[8-inf]'],\n",
    "    'rate_plan': ['Standard', 'Nonref'],\n",
    "    'room_segment': ['[0-160]', '[160-260]', '[260-360]', '[360-500]', '[500-900]'],\n",
    "    'n_people_bucket': ['[1-1]', '[2-2]', '[3-4]', '[5-inf]'],\n",
    "    'weekend_stay': ['True', 'False']\n",
    "}\n",
    "\n",
    "interactions_data.loc[:, 'term'] = pd.Categorical(\n",
    "    interactions_data['term'], categories=column_values_dict['term'])\n",
    "interactions_data.loc[:, 'length_of_stay_bucket'] = pd.Categorical(\n",
    "    interactions_data['length_of_stay_bucket'], categories=column_values_dict['length_of_stay_bucket'])\n",
    "interactions_data.loc[:, 'rate_plan'] = pd.Categorical(\n",
    "    interactions_data['rate_plan'], categories=column_values_dict['rate_plan'])\n",
    "interactions_data.loc[:, 'room_segment'] = pd.Categorical(\n",
    "    interactions_data['room_segment'], categories=column_values_dict['room_segment'])\n",
    "interactions_data.loc[:, 'n_people_bucket'] = pd.Categorical(\n",
    "    interactions_data['n_people_bucket'], categories=column_values_dict['n_people_bucket'])\n",
    "interactions_data.loc[:, 'weekend_stay'] = interactions_data['weekend_stay'].astype('str')\n",
    "interactions_data.loc[:, 'weekend_stay'] = pd.Categorical(\n",
    "    interactions_data['weekend_stay'], categories=column_values_dict['weekend_stay'])\n",
    "\n",
    "display(HTML(interactions_data.head(15).to_html()))"
   ]
  },
  {
   "cell_type": "markdown",
   "id": "unlike-recipient",
   "metadata": {
    "pycharm": {
     "name": "#%% md\n"
    }
   },
   "source": [
    "# Neural network recommender\n",
    "\n",
    "<span style=\"color:red\"><font size=\"4\">**Task:**</font></span><br>\n",
    "Code a recommender based on a neural network model. You are free to choose any network architecture you find appropriate. The network can use the interaction vectors for users and items, embeddings of users and items, as well as user and item features (you can use the features you developed in the first project).\n",
    "\n",
    "Remember to keep control over randomness - in the init method add the seed as a parameter and initialize the random seed generator with that seed (both for numpy and pytorch):\n",
    "\n",
    "```python\n",
    "self.seed = seed\n",
    "self.rng = np.random.RandomState(seed=seed)\n",
    "```\n",
    "in the network model:\n",
    "```python\n",
    "self.seed = torch.manual_seed(seed)\n",
    "```\n",
    "\n",
    "You are encouraged to experiment with:\n",
    "  - the number of layers in the network, the number of neurons and different activation functions,\n",
    "  - different optimizers and their parameters,\n",
    "  - batch size and the number of epochs,\n",
    "  - embedding layers,\n",
    "  - content-based features of both users and items."
   ]
  },
  {
   "cell_type": "code",
   "execution_count": 3,
   "outputs": [],
   "source": [
    "class CustomModel(nn.Module):\n",
    "    def __init__(self, n_items, n_users, embedding_dim, hidden_dim, seed):\n",
    "        super().__init__()\n",
    "\n",
    "        self.seed = torch.manual_seed(seed)\n",
    "        self.item_embedding = nn.Embedding(n_items, embedding_dim)\n",
    "        self.user_embedding = nn.Embedding(n_users, embedding_dim)\n",
    "        self.fc = nn.ModuleList()\n",
    "        self.fc.append(nn.Linear(embedding_dim, hidden_dim, bias=False))\n",
    "        while hidden_dim != 4:\n",
    "            self.fc.append(nn.Linear(hidden_dim, int(hidden_dim / 2), bias=False))\n",
    "            hidden_dim = int(hidden_dim / 2)\n",
    "        self.fc_end = nn.Linear(hidden_dim, 1, bias=False)\n",
    "\n",
    "    def forward(self, x):\n",
    "        user_ids = x[:, 0]\n",
    "        item_ids = x[:, 1]\n",
    "        user_embedding = self.user_embedding(user_ids)\n",
    "        item_embedding = self.item_embedding(item_ids)\n",
    "        x = user_embedding * item_embedding\n",
    "        for fc in self.fc:\n",
    "            x = torch.relu(fc(x))\n",
    "        x = self.fc_end(x)\n",
    "        x = torch.sigmoid(x)\n",
    "\n",
    "        return x"
   ],
   "metadata": {
    "collapsed": false,
    "pycharm": {
     "name": "#%%\n"
    }
   }
  },
  {
   "cell_type": "code",
   "source": [
    "from collections import deque\n",
    "from recommenders.recommender import Recommender\n",
    "\n",
    "\n",
    "class NNRecommender(Recommender):\n",
    "\n",
    "    def __init__(self,\n",
    "                 plot: bool = True,\n",
    "                 n_epochs: int = 10,\n",
    "                 n_neg_per_pos: int = 5,\n",
    "                 embedding_dim: int = 8,\n",
    "                 hidden_dim: int = 16,\n",
    "                 lr: float = 0.01,\n",
    "                 weight_decay: float = 0.001,\n",
    "                 batch_size: int = 32,\n",
    "                 seed: int = 6789\n",
    "                 ):\n",
    "        super().__init__()\n",
    "\n",
    "        self.recommender_df = pd.DataFrame(columns=['user_id', 'item_id', 'score'])\n",
    "        self.item_id_mapping = None\n",
    "        self.user_id_mapping = None\n",
    "        self.item_id_reverse_mapping = None\n",
    "        self.user_id_reverse_mapping = None\n",
    "        self.most_popular_items = None\n",
    "\n",
    "        self.device = torch.device(\"cuda:0\" if torch.cuda.is_available() else \"cpu\")\n",
    "        self.validation_set_size = 0.2\n",
    "        self.seed = seed\n",
    "        self.rng = np.random.RandomState(seed=seed)\n",
    "        torch.manual_seed(seed)\n",
    "        self.nn_model = None\n",
    "\n",
    "        self.plot = plot\n",
    "        self.n_epochs = n_epochs\n",
    "        self.n_neg_per_pos = n_neg_per_pos\n",
    "        self.embedding_dim = embedding_dim\n",
    "        self.hidden_dim = hidden_dim\n",
    "        self.lr = lr\n",
    "        self.weight_decay = weight_decay\n",
    "        self.batch_size = batch_size\n",
    "\n",
    "    def map_ids(self, df: pd.DataFrame) -> pd.DataFrame:\n",
    "        unique_item_ids = df['item_id'].unique()\n",
    "        self.item_id_mapping = dict(zip(unique_item_ids, list(range(len(unique_item_ids)))))\n",
    "        self.item_id_reverse_mapping = dict(zip(list(range(len(unique_item_ids))), unique_item_ids))\n",
    "        unique_user_ids = df['user_id'].unique()\n",
    "        self.user_id_mapping = dict(zip(unique_user_ids, list(range(len(unique_user_ids)))))\n",
    "\n",
    "        for key in self.user_id_mapping:\n",
    "            self.user_id_mapping[key] += 1\n",
    "\n",
    "        self.user_id_reverse_mapping = dict(zip(list(range(len(unique_user_ids))), unique_user_ids))\n",
    "        df = df.replace({\n",
    "            \"item_id\": self.item_id_mapping,\n",
    "            \"user_id\": self.user_id_mapping\n",
    "        })\n",
    "        return df\n",
    "\n",
    "    def generate_negative_interactions(self, n_neg_per_pos: int, df: pd.DataFrame) -> (pd.DataFrame, int, int):\n",
    "        negative_interactions = []\n",
    "\n",
    "        n_users = np.max(df['user_id']) + 1\n",
    "        n_items = np.max(df['item_id']) + 1\n",
    "\n",
    "        copy = df.copy()\n",
    "        copy['val'] = 1\n",
    "        interactions_dict = copy.set_index(['user_id', 'item_id']).val.to_dict()\n",
    "\n",
    "        i = 0\n",
    "        temp = n_neg_per_pos * len(df)\n",
    "        while i < temp:\n",
    "            sample_size = 1000\n",
    "            user_ids = self.rng.choice(np.arange(n_users), size=sample_size)\n",
    "            item_ids = self.rng.choice(np.arange(n_items), size=sample_size)\n",
    "\n",
    "            j = 0\n",
    "            while j < sample_size and i < temp:\n",
    "                if (user_ids[j], item_ids[j]) not in interactions_dict:\n",
    "                    negative_interactions.append([user_ids[j], item_ids[j], 0])\n",
    "                    i += 1\n",
    "                j += 1\n",
    "\n",
    "        df = pd.concat([df, pd.DataFrame(negative_interactions, columns=['user_id', 'item_id', 'interacted'])])\n",
    "        df = df.reset_index(drop=True)\n",
    "\n",
    "        return df, n_users, n_items\n",
    "\n",
    "    def fit(self, interactions_df: pd.DataFrame, users, items):\n",
    "\n",
    "        interactions_df = interactions_df.copy()\n",
    "        interactions_df = self.map_ids(interactions_df)\n",
    "\n",
    "        interactions_df = interactions_df.loc[:, ['user_id', 'item_id']]\n",
    "        interactions_df.loc[:, 'interacted'] = 1\n",
    "\n",
    "        interactions_df, n_users, n_items = self.generate_negative_interactions(self.n_neg_per_pos,\n",
    "                                                                                interactions_df)\n",
    "        self.nn_model = CustomModel(\n",
    "            n_items=n_items,\n",
    "            n_users=n_users,\n",
    "            embedding_dim=self.embedding_dim,\n",
    "            hidden_dim=self.hidden_dim,\n",
    "            seed=self.seed\n",
    "        )\n",
    "\n",
    "        loss_plot = PlotLosses()\n",
    "\n",
    "        self.nn_model.train()\n",
    "        torch_loss = torch.nn.MSELoss()\n",
    "        self.nn_model.to(self.device)\n",
    "        optimizer = optim.Adam(self.nn_model.parameters(), lr=self.lr, weight_decay=self.weight_decay)\n",
    "\n",
    "        interaction_ids = self.rng.permutation(len(interactions_df))\n",
    "\n",
    "        for epoch in range(self.n_epochs):\n",
    "            logs = {}\n",
    "            training_total_loss = 0.0\n",
    "\n",
    "            n_batches = int(np.ceil(len(interaction_ids) / self.batch_size))\n",
    "\n",
    "            for batch_idx in range(n_batches):\n",
    "                batch_ids = interaction_ids[(batch_idx * self.batch_size):((batch_idx + 1) * self.batch_size)]\n",
    "                batch = interactions_df.loc[batch_ids]\n",
    "                batch_input = torch.from_numpy(batch.loc[:, ['user_id', 'item_id']].values).long().to(self.device)\n",
    "                y_target = torch.from_numpy(batch.loc[:, ['interacted']].values).float().to(self.device)\n",
    "                y = self.nn_model(batch_input).clip(0.000001, 0.999999)\n",
    "                loss = torch_loss(y, y_target)\n",
    "                loss.backward()\n",
    "                optimizer.step()\n",
    "                optimizer.zero_grad()\n",
    "                training_total_loss += loss.item()\n",
    "            training_last_avg_loss = training_total_loss / len(interaction_ids)\n",
    "\n",
    "            logs['loss'] = training_last_avg_loss\n",
    "            if self.plot:\n",
    "                loss_plot.update(logs)\n",
    "                loss_plot.send()\n",
    "\n",
    "        offers_count = interactions_df.loc[:, ['item_id', 'user_id']].groupby(by='item_id').count()\n",
    "        offers_count = offers_count.sort_values('user_id', ascending=False)\n",
    "        self.most_popular_items = offers_count.index\n",
    "\n",
    "    def recommend(self, users_df, items_df, n_recommendations=1):\n",
    "        self.recommender_df = self.recommender_df[:0]\n",
    "\n",
    "        items_df = items_df.copy()\n",
    "        items_df = items_df.loc[items_df['item_id'].isin(self.item_id_mapping)]\n",
    "        items_df['item_id'] = items_df['item_id'].map(self.item_id_mapping)\n",
    "\n",
    "        for idx, user in users_df.iterrows():\n",
    "            recommendations = []\n",
    "\n",
    "            user_id = user['user_id']\n",
    "\n",
    "            if user_id not in self.user_id_mapping:\n",
    "                for i in range(n_recommendations):\n",
    "                    recommendations.append(\n",
    "                        {\n",
    "                            'user_id': user['user_id'],\n",
    "                            'item_id': self.item_id_reverse_mapping[self.most_popular_items[i]],\n",
    "                            'score': 1.0\n",
    "                        }\n",
    "                    )\n",
    "            else:\n",
    "                mapped_user_id = self.user_id_mapping[user_id]\n",
    "\n",
    "                ids_list = items_df['item_id'].tolist()\n",
    "                id_to_pos = np.array([0] * len(ids_list))\n",
    "                for k in range(len(ids_list)):\n",
    "                    id_to_pos[ids_list[k]] = k\n",
    "\n",
    "                net_input = torch.tensor(list(zip([mapped_user_id] * len(ids_list), ids_list))).to(self.device)\n",
    "                scores = self.nn_model(net_input).flatten().detach().cpu().numpy()\n",
    "                chosen_pos = np.argsort(-scores)[:n_recommendations]\n",
    "\n",
    "                for item_pos in chosen_pos:\n",
    "                    recommendations.append(\n",
    "                        {\n",
    "                            'user_id': self.user_id_reverse_mapping[mapped_user_id] - 1,\n",
    "                            'item_id': self.item_id_reverse_mapping[ids_list[item_pos]],\n",
    "                            'score': scores[item_pos]\n",
    "                        }\n",
    "                    )\n",
    "\n",
    "            user_recommendations = pd.DataFrame(recommendations)\n",
    "            self.recommender_df = pd.concat([self.recommender_df, user_recommendations])\n",
    "\n",
    "        return self.recommender_df\n"
   ],
   "metadata": {
    "collapsed": false,
    "pycharm": {
     "name": "#%%\n"
    }
   },
   "execution_count": 4,
   "outputs": []
  },
  {
   "cell_type": "markdown",
   "id": "copyrighted-relative",
   "metadata": {},
   "source": [
    "# Quick test of the recommender"
   ]
  },
  {
   "cell_type": "code",
   "execution_count": 5,
   "id": "greatest-canon",
   "metadata": {},
   "outputs": [],
   "source": [
    "items = interactions_data.loc[:, ['item_id'] + base_item_features].drop_duplicates()"
   ]
  },
  {
   "cell_type": "code",
   "execution_count": 6,
   "id": "initial-capital",
   "metadata": {},
   "outputs": [
    {
     "data": {
      "text/plain": "<Figure size 864x576 with 2 Axes>",
      "image/png": "[encoded data removed]"
     },
     "metadata": {
      "needs_background": "light"
     },
     "output_type": "display_data"
    },
    {
     "name": "stdout",
     "output_type": "stream",
     "text": [
      "Loss\n",
      "\tloss             \t (min:    0.001, max:    0.002, cur:    0.001)\n"
     ]
    }
   ],
   "source": [
    "mlp_recommender = NNRecommender(**{\n",
    "    'n_neg_per_pos': 10,\n",
    "    'lr': 0.01,\n",
    "    'weight_decay': 0.001,\n",
    "    'batch_size': 64,\n",
    "    'n_epochs': 10,\n",
    "    'embedding_dim': 8,\n",
    "    'hidden_dim': 64\n",
    "})\n",
    "mlp_recommender.fit(interactions_data, None, None)"
   ]
  },
  {
   "cell_type": "code",
   "execution_count": 7,
   "id": "digital-consolidation",
   "metadata": {
    "scrolled": false
   },
   "outputs": [
    {
     "data": {
      "text/plain": "<IPython.core.display.HTML object>",
      "text/html": "<table border=\"1\" class=\"dataframe\">\n  <thead>\n    <tr style=\"text-align: right;\">\n      <th></th>\n      <th>user_id</th>\n      <th>item_id</th>\n      <th>score</th>\n      <th>term</th>\n      <th>length_of_stay_bucket</th>\n      <th>rate_plan</th>\n      <th>room_segment</th>\n      <th>n_people_bucket</th>\n      <th>weekend_stay</th>\n    </tr>\n  </thead>\n  <tbody>\n    <tr>\n      <th>0</th>\n      <td>1</td>\n      <td>14</td>\n      <td>0.493031</td>\n      <td>OffSeason</td>\n      <td>[4-7]</td>\n      <td>Standard</td>\n      <td>[160-260]</td>\n      <td>[3-4]</td>\n      <td>True</td>\n    </tr>\n    <tr>\n      <th>1</th>\n      <td>1</td>\n      <td>207</td>\n      <td>0.481662</td>\n      <td>HighSeason</td>\n      <td>[2-3]</td>\n      <td>Standard</td>\n      <td>[160-260]</td>\n      <td>[5-inf]</td>\n      <td>True</td>\n    </tr>\n    <tr>\n      <th>2</th>\n      <td>1</td>\n      <td>114</td>\n      <td>0.481546</td>\n      <td>WinterVacation</td>\n      <td>[2-3]</td>\n      <td>Standard</td>\n      <td>[160-260]</td>\n      <td>[1-1]</td>\n      <td>False</td>\n    </tr>\n    <tr>\n      <th>3</th>\n      <td>1</td>\n      <td>155</td>\n      <td>0.477014</td>\n      <td>OffSeason</td>\n      <td>[2-3]</td>\n      <td>Nonref</td>\n      <td>[160-260]</td>\n      <td>[1-1]</td>\n      <td>False</td>\n    </tr>\n    <tr>\n      <th>4</th>\n      <td>1</td>\n      <td>21</td>\n      <td>0.476840</td>\n      <td>OffSeason</td>\n      <td>[2-3]</td>\n      <td>Standard</td>\n      <td>[160-260]</td>\n      <td>[2-2]</td>\n      <td>False</td>\n    </tr>\n    <tr>\n      <th>5</th>\n      <td>1</td>\n      <td>683</td>\n      <td>0.470245</td>\n      <td>NewYear</td>\n      <td>[0-1]</td>\n      <td>Standard</td>\n      <td>[160-260]</td>\n      <td>[2-2]</td>\n      <td>False</td>\n    </tr>\n    <tr>\n      <th>6</th>\n      <td>1</td>\n      <td>9</td>\n      <td>0.467938</td>\n      <td>HighSeason</td>\n      <td>[2-3]</td>\n      <td>Standard</td>\n      <td>[160-260]</td>\n      <td>[3-4]</td>\n      <td>True</td>\n    </tr>\n    <tr>\n      <th>7</th>\n      <td>1</td>\n      <td>22</td>\n      <td>0.453007</td>\n      <td>OffSeason</td>\n      <td>[2-3]</td>\n      <td>Standard</td>\n      <td>[160-260]</td>\n      <td>[3-4]</td>\n      <td>True</td>\n    </tr>\n    <tr>\n      <th>8</th>\n      <td>1</td>\n      <td>57</td>\n      <td>0.450120</td>\n      <td>OffSeason</td>\n      <td>[2-3]</td>\n      <td>Nonref</td>\n      <td>[160-260]</td>\n      <td>[3-4]</td>\n      <td>False</td>\n    </tr>\n    <tr>\n      <th>9</th>\n      <td>1</td>\n      <td>55</td>\n      <td>0.443553</td>\n      <td>OffSeason</td>\n      <td>[2-3]</td>\n      <td>Nonref</td>\n      <td>[160-260]</td>\n      <td>[2-2]</td>\n      <td>True</td>\n    </tr>\n    <tr>\n      <th>10</th>\n      <td>2</td>\n      <td>14</td>\n      <td>0.487984</td>\n      <td>OffSeason</td>\n      <td>[4-7]</td>\n      <td>Standard</td>\n      <td>[160-260]</td>\n      <td>[3-4]</td>\n      <td>True</td>\n    </tr>\n    <tr>\n      <th>11</th>\n      <td>2</td>\n      <td>114</td>\n      <td>0.467159</td>\n      <td>WinterVacation</td>\n      <td>[2-3]</td>\n      <td>Standard</td>\n      <td>[160-260]</td>\n      <td>[1-1]</td>\n      <td>False</td>\n    </tr>\n    <tr>\n      <th>12</th>\n      <td>2</td>\n      <td>207</td>\n      <td>0.466330</td>\n      <td>HighSeason</td>\n      <td>[2-3]</td>\n      <td>Standard</td>\n      <td>[160-260]</td>\n      <td>[5-inf]</td>\n      <td>True</td>\n    </tr>\n    <tr>\n      <th>13</th>\n      <td>2</td>\n      <td>155</td>\n      <td>0.459409</td>\n      <td>OffSeason</td>\n      <td>[2-3]</td>\n      <td>Nonref</td>\n      <td>[160-260]</td>\n      <td>[1-1]</td>\n      <td>False</td>\n    </tr>\n    <tr>\n      <th>14</th>\n      <td>2</td>\n      <td>21</td>\n      <td>0.458454</td>\n      <td>OffSeason</td>\n      <td>[2-3]</td>\n      <td>Standard</td>\n      <td>[160-260]</td>\n      <td>[2-2]</td>\n      <td>False</td>\n    </tr>\n    <tr>\n      <th>15</th>\n      <td>2</td>\n      <td>683</td>\n      <td>0.447683</td>\n      <td>NewYear</td>\n      <td>[0-1]</td>\n      <td>Standard</td>\n      <td>[160-260]</td>\n      <td>[2-2]</td>\n      <td>False</td>\n    </tr>\n    <tr>\n      <th>16</th>\n      <td>2</td>\n      <td>9</td>\n      <td>0.443253</td>\n      <td>HighSeason</td>\n      <td>[2-3]</td>\n      <td>Standard</td>\n      <td>[160-260]</td>\n      <td>[3-4]</td>\n      <td>True</td>\n    </tr>\n    <tr>\n      <th>17</th>\n      <td>2</td>\n      <td>22</td>\n      <td>0.417364</td>\n      <td>OffSeason</td>\n      <td>[2-3]</td>\n      <td>Standard</td>\n      <td>[160-260]</td>\n      <td>[3-4]</td>\n      <td>True</td>\n    </tr>\n    <tr>\n      <th>18</th>\n      <td>2</td>\n      <td>57</td>\n      <td>0.413581</td>\n      <td>OffSeason</td>\n      <td>[2-3]</td>\n      <td>Nonref</td>\n      <td>[160-260]</td>\n      <td>[3-4]</td>\n      <td>False</td>\n    </tr>\n    <tr>\n      <th>19</th>\n      <td>2</td>\n      <td>55</td>\n      <td>0.401885</td>\n      <td>OffSeason</td>\n      <td>[2-3]</td>\n      <td>Nonref</td>\n      <td>[160-260]</td>\n      <td>[2-2]</td>\n      <td>True</td>\n    </tr>\n    <tr>\n      <th>20</th>\n      <td>3</td>\n      <td>14</td>\n      <td>0.486636</td>\n      <td>OffSeason</td>\n      <td>[4-7]</td>\n      <td>Standard</td>\n      <td>[160-260]</td>\n      <td>[3-4]</td>\n      <td>True</td>\n    </tr>\n    <tr>\n      <th>21</th>\n      <td>3</td>\n      <td>114</td>\n      <td>0.463487</td>\n      <td>WinterVacation</td>\n      <td>[2-3]</td>\n      <td>Standard</td>\n      <td>[160-260]</td>\n      <td>[1-1]</td>\n      <td>False</td>\n    </tr>\n    <tr>\n      <th>22</th>\n      <td>3</td>\n      <td>207</td>\n      <td>0.462932</td>\n      <td>HighSeason</td>\n      <td>[2-3]</td>\n      <td>Standard</td>\n      <td>[160-260]</td>\n      <td>[5-inf]</td>\n      <td>True</td>\n    </tr>\n    <tr>\n      <th>23</th>\n      <td>3</td>\n      <td>155</td>\n      <td>0.454878</td>\n      <td>OffSeason</td>\n      <td>[2-3]</td>\n      <td>Nonref</td>\n      <td>[160-260]</td>\n      <td>[1-1]</td>\n      <td>False</td>\n    </tr>\n    <tr>\n      <th>24</th>\n      <td>3</td>\n      <td>21</td>\n      <td>0.454266</td>\n      <td>OffSeason</td>\n      <td>[2-3]</td>\n      <td>Standard</td>\n      <td>[160-260]</td>\n      <td>[2-2]</td>\n      <td>False</td>\n    </tr>\n    <tr>\n      <th>25</th>\n      <td>3</td>\n      <td>683</td>\n      <td>0.441862</td>\n      <td>NewYear</td>\n      <td>[0-1]</td>\n      <td>Standard</td>\n      <td>[160-260]</td>\n      <td>[2-2]</td>\n      <td>False</td>\n    </tr>\n    <tr>\n      <th>26</th>\n      <td>3</td>\n      <td>9</td>\n      <td>0.437557</td>\n      <td>HighSeason</td>\n      <td>[2-3]</td>\n      <td>Standard</td>\n      <td>[160-260]</td>\n      <td>[3-4]</td>\n      <td>True</td>\n    </tr>\n    <tr>\n      <th>27</th>\n      <td>3</td>\n      <td>22</td>\n      <td>0.409163</td>\n      <td>OffSeason</td>\n      <td>[2-3]</td>\n      <td>Standard</td>\n      <td>[160-260]</td>\n      <td>[3-4]</td>\n      <td>True</td>\n    </tr>\n    <tr>\n      <th>28</th>\n      <td>3</td>\n      <td>57</td>\n      <td>0.404108</td>\n      <td>OffSeason</td>\n      <td>[2-3]</td>\n      <td>Nonref</td>\n      <td>[160-260]</td>\n      <td>[3-4]</td>\n      <td>False</td>\n    </tr>\n    <tr>\n      <th>29</th>\n      <td>3</td>\n      <td>55</td>\n      <td>0.391206</td>\n      <td>OffSeason</td>\n      <td>[2-3]</td>\n      <td>Nonref</td>\n      <td>[160-260]</td>\n      <td>[2-2]</td>\n      <td>True</td>\n    </tr>\n    <tr>\n      <th>30</th>\n      <td>4</td>\n      <td>394</td>\n      <td>0.424390</td>\n      <td>OffSeason</td>\n      <td>[0-1]</td>\n      <td>Nonref</td>\n      <td>[160-260]</td>\n      <td>[2-2]</td>\n      <td>False</td>\n    </tr>\n    <tr>\n      <th>31</th>\n      <td>4</td>\n      <td>125</td>\n      <td>0.354841</td>\n      <td>WinterVacation</td>\n      <td>[4-7]</td>\n      <td>Nonref</td>\n      <td>[160-260]</td>\n      <td>[3-4]</td>\n      <td>True</td>\n    </tr>\n    <tr>\n      <th>32</th>\n      <td>4</td>\n      <td>22</td>\n      <td>0.313926</td>\n      <td>OffSeason</td>\n      <td>[2-3]</td>\n      <td>Standard</td>\n      <td>[160-260]</td>\n      <td>[3-4]</td>\n      <td>True</td>\n    </tr>\n    <tr>\n      <th>33</th>\n      <td>4</td>\n      <td>115</td>\n      <td>0.311918</td>\n      <td>LowSeason</td>\n      <td>[4-7]</td>\n      <td>Nonref</td>\n      <td>[160-260]</td>\n      <td>[2-2]</td>\n      <td>True</td>\n    </tr>\n    <tr>\n      <th>34</th>\n      <td>4</td>\n      <td>9</td>\n      <td>0.300999</td>\n      <td>HighSeason</td>\n      <td>[2-3]</td>\n      <td>Standard</td>\n      <td>[160-260]</td>\n      <td>[3-4]</td>\n      <td>True</td>\n    </tr>\n    <tr>\n      <th>35</th>\n      <td>4</td>\n      <td>51</td>\n      <td>0.294166</td>\n      <td>OffSeason</td>\n      <td>[2-3]</td>\n      <td>Nonref</td>\n      <td>[160-260]</td>\n      <td>[3-4]</td>\n      <td>True</td>\n    </tr>\n    <tr>\n      <th>36</th>\n      <td>4</td>\n      <td>55</td>\n      <td>0.292778</td>\n      <td>OffSeason</td>\n      <td>[2-3]</td>\n      <td>Nonref</td>\n      <td>[160-260]</td>\n      <td>[2-2]</td>\n      <td>True</td>\n    </tr>\n    <tr>\n      <th>37</th>\n      <td>4</td>\n      <td>142</td>\n      <td>0.223698</td>\n      <td>LowSeason</td>\n      <td>[2-3]</td>\n      <td>Nonref</td>\n      <td>[160-260]</td>\n      <td>[2-2]</td>\n      <td>True</td>\n    </tr>\n    <tr>\n      <th>38</th>\n      <td>4</td>\n      <td>437</td>\n      <td>0.185836</td>\n      <td>WinterVacation</td>\n      <td>[4-7]</td>\n      <td>Nonref</td>\n      <td>[160-260]</td>\n      <td>[2-2]</td>\n      <td>True</td>\n    </tr>\n    <tr>\n      <th>39</th>\n      <td>4</td>\n      <td>61</td>\n      <td>0.181760</td>\n      <td>OffSeason</td>\n      <td>[4-7]</td>\n      <td>Nonref</td>\n      <td>[160-260]</td>\n      <td>[2-2]</td>\n      <td>True</td>\n    </tr>\n    <tr>\n      <th>40</th>\n      <td>5</td>\n      <td>394</td>\n      <td>0.439946</td>\n      <td>OffSeason</td>\n      <td>[0-1]</td>\n      <td>Nonref</td>\n      <td>[160-260]</td>\n      <td>[2-2]</td>\n      <td>False</td>\n    </tr>\n    <tr>\n      <th>41</th>\n      <td>5</td>\n      <td>125</td>\n      <td>0.383613</td>\n      <td>WinterVacation</td>\n      <td>[4-7]</td>\n      <td>Nonref</td>\n      <td>[160-260]</td>\n      <td>[3-4]</td>\n      <td>True</td>\n    </tr>\n    <tr>\n      <th>42</th>\n      <td>5</td>\n      <td>22</td>\n      <td>0.349423</td>\n      <td>OffSeason</td>\n      <td>[2-3]</td>\n      <td>Standard</td>\n      <td>[160-260]</td>\n      <td>[3-4]</td>\n      <td>True</td>\n    </tr>\n    <tr>\n      <th>43</th>\n      <td>5</td>\n      <td>115</td>\n      <td>0.347929</td>\n      <td>LowSeason</td>\n      <td>[4-7]</td>\n      <td>Nonref</td>\n      <td>[160-260]</td>\n      <td>[2-2]</td>\n      <td>True</td>\n    </tr>\n    <tr>\n      <th>44</th>\n      <td>5</td>\n      <td>9</td>\n      <td>0.338564</td>\n      <td>HighSeason</td>\n      <td>[2-3]</td>\n      <td>Standard</td>\n      <td>[160-260]</td>\n      <td>[3-4]</td>\n      <td>True</td>\n    </tr>\n    <tr>\n      <th>45</th>\n      <td>5</td>\n      <td>51</td>\n      <td>0.332721</td>\n      <td>OffSeason</td>\n      <td>[2-3]</td>\n      <td>Nonref</td>\n      <td>[160-260]</td>\n      <td>[3-4]</td>\n      <td>True</td>\n    </tr>\n    <tr>\n      <th>46</th>\n      <td>5</td>\n      <td>55</td>\n      <td>0.331551</td>\n      <td>OffSeason</td>\n      <td>[2-3]</td>\n      <td>Nonref</td>\n      <td>[160-260]</td>\n      <td>[2-2]</td>\n      <td>True</td>\n    </tr>\n    <tr>\n      <th>47</th>\n      <td>5</td>\n      <td>142</td>\n      <td>0.271190</td>\n      <td>LowSeason</td>\n      <td>[2-3]</td>\n      <td>Nonref</td>\n      <td>[160-260]</td>\n      <td>[2-2]</td>\n      <td>True</td>\n    </tr>\n    <tr>\n      <th>48</th>\n      <td>5</td>\n      <td>437</td>\n      <td>0.235896</td>\n      <td>WinterVacation</td>\n      <td>[4-7]</td>\n      <td>Nonref</td>\n      <td>[160-260]</td>\n      <td>[2-2]</td>\n      <td>True</td>\n    </tr>\n    <tr>\n      <th>49</th>\n      <td>5</td>\n      <td>61</td>\n      <td>0.232262</td>\n      <td>OffSeason</td>\n      <td>[4-7]</td>\n      <td>Nonref</td>\n      <td>[160-260]</td>\n      <td>[2-2]</td>\n      <td>True</td>\n    </tr>\n  </tbody>\n</table>"
     },
     "metadata": {},
     "output_type": "display_data"
    }
   ],
   "source": [
    "# Recommender method\n",
    "recommendations = mlp_recommender.recommend(pd.DataFrame([[1], [2], [3], [4], [5]], columns=['user_id']), items, 10)\n",
    "\n",
    "recommendations = pd.merge(recommendations, items, on='item_id', how='left')\n",
    "display(HTML(recommendations.to_html()))"
   ]
  },
  {
   "cell_type": "markdown",
   "id": "advanced-eleven",
   "metadata": {},
   "source": [
    "# Tuning method"
   ]
  },
  {
   "cell_type": "code",
   "execution_count": 8,
   "id": "strange-alaska",
   "metadata": {},
   "outputs": [],
   "source": [
    "from evaluation_and_testing.testing import evaluate_train_test_split_implicit\n",
    "\n",
    "seed = 6789"
   ]
  },
  {
   "cell_type": "code",
   "execution_count": 9,
   "id": "stable-theta",
   "metadata": {},
   "outputs": [],
   "source": [
    "from hyperopt import hp, fmin, tpe, Trials\n",
    "from hyperopt.pyll import scope\n",
    "import traceback\n",
    "\n",
    "\n",
    "def tune_recommender(recommender_class, interactions_df, items_df,\n",
    "                     param_space, max_evals=1, show_progressbar=True, seed=6789):\n",
    "    shuffle = np.arange(len(interactions_df))\n",
    "    rng = np.random.RandomState(seed=seed)\n",
    "    rng.shuffle(shuffle)\n",
    "    shuffle = list(shuffle)\n",
    "\n",
    "    train_test_split = 0.8\n",
    "    split_index = int(len(interactions_df) * train_test_split)\n",
    "\n",
    "    train_validation = interactions_df.iloc[shuffle[:split_index]]\n",
    "    test = interactions_df.iloc[shuffle[split_index:]]\n",
    "\n",
    "    # Tune\n",
    "\n",
    "    def loss(tuned_params):\n",
    "        recommender = recommender_class(seed=seed, **tuned_params)\n",
    "        hr1, hr3, hr5, hr10, ndcg1, ndcg3, ndcg5, ndcg10 = evaluate_train_test_split_implicit(\n",
    "            recommender, train_validation, items_df, seed=seed)\n",
    "        return -hr10\n",
    "\n",
    "    n_tries = 1\n",
    "    succeded = False\n",
    "    try_id = 0\n",
    "    while not succeded and try_id < n_tries:\n",
    "        try:\n",
    "            trials = Trials()\n",
    "            best_param_set = fmin(loss, space=param_space, algo=tpe.suggest,\n",
    "                                  max_evals=max_evals, show_progressbar=show_progressbar, trials=trials, verbose=True)\n",
    "            succeded = True\n",
    "        except:\n",
    "            traceback.print_exc()\n",
    "            try_id += 1\n",
    "\n",
    "    if not succeded:\n",
    "        return None\n",
    "\n",
    "    # Validate\n",
    "\n",
    "    recommender = recommender_class(seed=seed, **best_param_set)\n",
    "\n",
    "    results = [[recommender_class.__name__] + list(evaluate_train_test_split_implicit(\n",
    "        recommender, {'train': train_validation, 'test': test}, items_df, seed=seed))]\n",
    "\n",
    "    results = pd.DataFrame(results,\n",
    "                           columns=['Recommender', 'HR@1', 'HR@3', 'HR@5', 'HR@10', 'NDCG@1', 'NDCG@3', 'NDCG@5',\n",
    "                                    'NDCG@10'])\n",
    "\n",
    "    display(HTML(results.to_html()))\n",
    "\n",
    "    return best_param_set"
   ]
  },
  {
   "cell_type": "markdown",
   "id": "reliable-switzerland",
   "metadata": {},
   "source": [
    "## Tuning of the recommender\n",
    "\n",
    "<span style=\"color:red\"><font size=\"4\">**Task:**</font></span><br> \n",
    "Tune your model using the code below. You only need to put the class name of your recommender and choose an appropriate parameter space."
   ]
  },
  {
   "cell_type": "code",
   "execution_count": 119,
   "id": "obvious-astrology",
   "metadata": {},
   "outputs": [
    {
     "name": "stdout",
     "output_type": "stream",
     "text": [
      "100%|██████████| 10/10 [17:54<00:00, 107.41s/trial, best loss: -0.22132881929750317]\n"
     ]
    },
    {
     "ename": "TypeError",
     "evalue": "slice indices must be integers or None or have an __index__ method",
     "output_type": "error",
     "traceback": [
      "\u001B[1;31m---------------------------------------------------------------------------\u001B[0m",
      "\u001B[1;31mTypeError\u001B[0m                                 Traceback (most recent call last)",
      "\u001B[1;32m<ipython-input-119-af05d076aec5>\u001B[0m in \u001B[0;36m<module>\u001B[1;34m\u001B[0m\n\u001B[0;32m     10\u001B[0m }\n\u001B[0;32m     11\u001B[0m \u001B[1;33m\u001B[0m\u001B[0m\n\u001B[1;32m---> 12\u001B[1;33m best_param_set = tune_recommender(NNRecommender, interactions_data, items,\n\u001B[0m\u001B[0;32m     13\u001B[0m                                   param_space, max_evals=10, show_progressbar=True, seed=seed)\n\u001B[0;32m     14\u001B[0m \u001B[1;33m\u001B[0m\u001B[0m\n",
      "\u001B[1;32m<ipython-input-114-5b6469596347>\u001B[0m in \u001B[0;36mtune_recommender\u001B[1;34m(recommender_class, interactions_df, items_df, param_space, max_evals, show_progressbar, seed)\u001B[0m\n\u001B[0;32m     46\u001B[0m     \u001B[0mrecommender\u001B[0m \u001B[1;33m=\u001B[0m \u001B[0mrecommender_class\u001B[0m\u001B[1;33m(\u001B[0m\u001B[0mseed\u001B[0m\u001B[1;33m=\u001B[0m\u001B[0mseed\u001B[0m\u001B[1;33m,\u001B[0m \u001B[1;33m**\u001B[0m\u001B[0mbest_param_set\u001B[0m\u001B[1;33m)\u001B[0m\u001B[1;33m\u001B[0m\u001B[1;33m\u001B[0m\u001B[0m\n\u001B[0;32m     47\u001B[0m \u001B[1;33m\u001B[0m\u001B[0m\n\u001B[1;32m---> 48\u001B[1;33m     results = [[recommender_class.__name__] + list(evaluate_train_test_split_implicit(\n\u001B[0m\u001B[0;32m     49\u001B[0m         recommender, {'train': train_validation, 'test': test}, items_df, seed=seed))]\n\u001B[0;32m     50\u001B[0m \u001B[1;33m\u001B[0m\u001B[0m\n",
      "\u001B[1;32mD:\\Studia\\semestr_6\\recomender-systems-project-2\\evaluation_and_testing\\testing.py\u001B[0m in \u001B[0;36mevaluate_train_test_split_implicit\u001B[1;34m(recommender, interactions_df, items_df, seed)\u001B[0m\n\u001B[0;32m     91\u001B[0m     \u001B[1;31m# Train the recommender\u001B[0m\u001B[1;33m\u001B[0m\u001B[1;33m\u001B[0m\u001B[1;33m\u001B[0m\u001B[0m\n\u001B[0;32m     92\u001B[0m \u001B[1;33m\u001B[0m\u001B[0m\n\u001B[1;32m---> 93\u001B[1;33m     \u001B[0mrecommender\u001B[0m\u001B[1;33m.\u001B[0m\u001B[0mfit\u001B[0m\u001B[1;33m(\u001B[0m\u001B[0minteractions_df_train\u001B[0m\u001B[1;33m,\u001B[0m \u001B[1;32mNone\u001B[0m\u001B[1;33m,\u001B[0m \u001B[0mitems_df\u001B[0m\u001B[1;33m)\u001B[0m\u001B[1;33m\u001B[0m\u001B[1;33m\u001B[0m\u001B[0m\n\u001B[0m\u001B[0;32m     94\u001B[0m \u001B[1;33m\u001B[0m\u001B[0m\n\u001B[0;32m     95\u001B[0m     \u001B[1;31m# Make recommendations for each user in the test set and calculate the metric\u001B[0m\u001B[1;33m\u001B[0m\u001B[1;33m\u001B[0m\u001B[1;33m\u001B[0m\u001B[0m\n",
      "\u001B[1;32m<ipython-input-117-128c8f9fd1f2>\u001B[0m in \u001B[0;36mfit\u001B[1;34m(self, interactions_df, users, items)\u001B[0m\n\u001B[0;32m    126\u001B[0m \u001B[1;33m\u001B[0m\u001B[0m\n\u001B[0;32m    127\u001B[0m             \u001B[1;32mfor\u001B[0m \u001B[0mbatch_idx\u001B[0m \u001B[1;32min\u001B[0m \u001B[0mrange\u001B[0m\u001B[1;33m(\u001B[0m\u001B[0mn_batches\u001B[0m\u001B[1;33m)\u001B[0m\u001B[1;33m:\u001B[0m\u001B[1;33m\u001B[0m\u001B[1;33m\u001B[0m\u001B[0m\n\u001B[1;32m--> 128\u001B[1;33m                 \u001B[0mbatch_ids\u001B[0m \u001B[1;33m=\u001B[0m \u001B[0mtraining_ids\u001B[0m\u001B[1;33m[\u001B[0m\u001B[1;33m(\u001B[0m\u001B[0mbatch_idx\u001B[0m \u001B[1;33m*\u001B[0m \u001B[0mself\u001B[0m\u001B[1;33m.\u001B[0m\u001B[0mbatch_size\u001B[0m\u001B[1;33m)\u001B[0m\u001B[1;33m:\u001B[0m\u001B[1;33m(\u001B[0m\u001B[1;33m(\u001B[0m\u001B[0mbatch_idx\u001B[0m \u001B[1;33m+\u001B[0m \u001B[1;36m1\u001B[0m\u001B[1;33m)\u001B[0m \u001B[1;33m*\u001B[0m \u001B[0mself\u001B[0m\u001B[1;33m.\u001B[0m\u001B[0mbatch_size\u001B[0m\u001B[1;33m)\u001B[0m\u001B[1;33m]\u001B[0m\u001B[1;33m\u001B[0m\u001B[1;33m\u001B[0m\u001B[0m\n\u001B[0m\u001B[0;32m    129\u001B[0m                 \u001B[0mbatch\u001B[0m \u001B[1;33m=\u001B[0m \u001B[0minteractions_df\u001B[0m\u001B[1;33m.\u001B[0m\u001B[0mloc\u001B[0m\u001B[1;33m[\u001B[0m\u001B[0mbatch_ids\u001B[0m\u001B[1;33m]\u001B[0m\u001B[1;33m\u001B[0m\u001B[1;33m\u001B[0m\u001B[0m\n\u001B[0;32m    130\u001B[0m                 \u001B[0mbatch_input\u001B[0m \u001B[1;33m=\u001B[0m \u001B[0mtorch\u001B[0m\u001B[1;33m.\u001B[0m\u001B[0mfrom_numpy\u001B[0m\u001B[1;33m(\u001B[0m\u001B[0mbatch\u001B[0m\u001B[1;33m.\u001B[0m\u001B[0mloc\u001B[0m\u001B[1;33m[\u001B[0m\u001B[1;33m:\u001B[0m\u001B[1;33m,\u001B[0m \u001B[1;33m[\u001B[0m\u001B[1;34m'user_id'\u001B[0m\u001B[1;33m,\u001B[0m \u001B[1;34m'item_id'\u001B[0m\u001B[1;33m]\u001B[0m\u001B[1;33m]\u001B[0m\u001B[1;33m.\u001B[0m\u001B[0mvalues\u001B[0m\u001B[1;33m)\u001B[0m\u001B[1;33m.\u001B[0m\u001B[0mlong\u001B[0m\u001B[1;33m(\u001B[0m\u001B[1;33m)\u001B[0m\u001B[1;33m.\u001B[0m\u001B[0mto\u001B[0m\u001B[1;33m(\u001B[0m\u001B[0mself\u001B[0m\u001B[1;33m.\u001B[0m\u001B[0mdevice\u001B[0m\u001B[1;33m)\u001B[0m\u001B[1;33m\u001B[0m\u001B[1;33m\u001B[0m\u001B[0m\n",
      "\u001B[1;31mTypeError\u001B[0m: slice indices must be integers or None or have an __index__ method"
     ]
    }
   ],
   "source": [
    "param_space = {\n",
    "    'n_neg_per_pos': hp.quniform('n_neg_per_pos', 1, 10, 1),\n",
    "    'batch_size': scope.int(hp.quniform('batch_size', 32, 64, 16)),\n",
    "    'lr': 0.001,\n",
    "    'weight_decay': 0.0001,\n",
    "    'n_epochs': 15,\n",
    "    'embedding_dim': 8,\n",
    "    'hidden_dim': 16,\n",
    "    'plot': False\n",
    "}\n",
    "\n",
    "best_param_set = tune_recommender(NNRecommender, interactions_data, items,\n",
    "                                  param_space, max_evals=10, show_progressbar=True, seed=seed)\n",
    "\n",
    "print(\"Best parameters:\")\n",
    "print(best_param_set)"
   ]
  },
  {
   "cell_type": "markdown",
   "id": "accredited-strap",
   "metadata": {},
   "source": [
    "# Final evaluation\n",
    "\n",
    "<span style=\"color:red\"><font size=\"4\">**Task:**</font></span><br> \n",
    "Run the final evaluation of your recommender and present its results against the Amazon and Netflix recommenders' results. You just need to give the class name of your recommender and its tuned parameters below.\n",
    "\n",
    "It's optional, but for better effect you can include here the results from all recommenders created during in this class."
   ]
  },
  {
   "cell_type": "code",
   "execution_count": 10,
   "id": "given-homework",
   "metadata": {},
   "outputs": [
    {
     "data": {
      "text/plain": "<Figure size 864x576 with 2 Axes>",
      "image/png": "[encoded data removed]"
     },
     "metadata": {
      "needs_background": "light"
     },
     "output_type": "display_data"
    },
    {
     "name": "stdout",
     "output_type": "stream",
     "text": [
      "Loss\n",
      "\tloss             \t (min:    0.000, max:    0.001, cur:    0.000)\n"
     ]
    },
    {
     "data": {
      "text/plain": "<IPython.core.display.HTML object>",
      "text/html": "<table border=\"1\" class=\"dataframe\">\n  <thead>\n    <tr style=\"text-align: right;\">\n      <th></th>\n      <th>Recommender</th>\n      <th>HR@1</th>\n      <th>HR@3</th>\n      <th>HR@5</th>\n      <th>HR@10</th>\n      <th>NDCG@1</th>\n      <th>NDCG@3</th>\n      <th>NDCG@5</th>\n      <th>NDCG@10</th>\n    </tr>\n  </thead>\n  <tbody>\n    <tr>\n      <th>0</th>\n      <td>GMF_Recommender</td>\n      <td>0.043788</td>\n      <td>0.118126</td>\n      <td>0.160217</td>\n      <td>0.219959</td>\n      <td>0.043788</td>\n      <td>0.086246</td>\n      <td>0.103823</td>\n      <td>0.122762</td>\n    </tr>\n  </tbody>\n</table>"
     },
     "metadata": {},
     "output_type": "display_data"
    }
   ],
   "source": [
    "gmf_recommender = NNRecommender(**{\n",
    "    'n_neg_per_pos': 10,\n",
    "    'lr': 0.001,\n",
    "    'weight_decay': 0.0001,\n",
    "    'batch_size': 128,\n",
    "    'n_epochs': 20,\n",
    "    'embedding_dim': 8,\n",
    "    'hidden_dim': 16\n",
    "})\n",
    "\n",
    "gmf_tts_results = [['GMF_Recommender'] + list(evaluate_train_test_split_implicit(\n",
    "    gmf_recommender, interactions_data, items))]\n",
    "\n",
    "gmf_tts_results = pd.DataFrame(\n",
    "    gmf_tts_results, columns=['Recommender', 'HR@1', 'HR@3', 'HR@5', 'HR@10', 'NDCG@1', 'NDCG@3', 'NDCG@5', 'NDCG@10'])\n",
    "\n",
    "display(HTML(gmf_tts_results.to_html()))"
   ]
  },
  {
   "cell_type": "code",
   "execution_count": 111,
   "id": "suited-nomination",
   "metadata": {},
   "outputs": [
    {
     "data": {
      "text/plain": "<IPython.core.display.HTML object>",
      "text/html": "<table border=\"1\" class=\"dataframe\">\n  <thead>\n    <tr style=\"text-align: right;\">\n      <th></th>\n      <th>Recommender</th>\n      <th>HR@1</th>\n      <th>HR@3</th>\n      <th>HR@5</th>\n      <th>HR@10</th>\n      <th>NDCG@1</th>\n      <th>NDCG@3</th>\n      <th>NDCG@5</th>\n      <th>NDCG@10</th>\n    </tr>\n  </thead>\n  <tbody>\n    <tr>\n      <th>0</th>\n      <td>AmazonRecommender</td>\n      <td>0.044128</td>\n      <td>0.118805</td>\n      <td>0.160557</td>\n      <td>0.223693</td>\n      <td>0.044128</td>\n      <td>0.086755</td>\n      <td>0.104216</td>\n      <td>0.124468</td>\n    </tr>\n  </tbody>\n</table>"
     },
     "metadata": {},
     "output_type": "display_data"
    }
   ],
   "source": [
    "from recommenders.amazon_recommender import AmazonRecommender\n",
    "\n",
    "amazon_recommender = AmazonRecommender()\n",
    "\n",
    "amazon_tts_results = [['AmazonRecommender'] + list(evaluate_train_test_split_implicit(\n",
    "    amazon_recommender, interactions_data, items))]\n",
    "\n",
    "amazon_tts_results = pd.DataFrame(\n",
    "    amazon_tts_results,\n",
    "    columns=['Recommender', 'HR@1', 'HR@3', 'HR@5', 'HR@10', 'NDCG@1', 'NDCG@3', 'NDCG@5', 'NDCG@10'])\n",
    "\n",
    "display(HTML(amazon_tts_results.to_html()))"
   ]
  },
  {
   "cell_type": "code",
   "execution_count": 112,
   "id": "conservative-remedy",
   "metadata": {},
   "outputs": [
    {
     "data": {
      "text/plain": "<Figure size 864x576 with 2 Axes>",
      "image/png": "[encoded data removed]"
     },
     "metadata": {
      "needs_background": "light"
     },
     "output_type": "display_data"
    },
    {
     "name": "stdout",
     "output_type": "stream",
     "text": [
      "Loss\n",
      "\ttraining         \t (min:    0.070, max:    0.239, cur:    0.070)\n",
      "\tvalidation       \t (min:    0.179, max:    0.264, cur:    0.207)\n"
     ]
    },
    {
     "data": {
      "text/plain": "<IPython.core.display.HTML object>",
      "text/html": "<table border=\"1\" class=\"dataframe\">\n  <thead>\n    <tr style=\"text-align: right;\">\n      <th></th>\n      <th>Recommender</th>\n      <th>HR@1</th>\n      <th>HR@3</th>\n      <th>HR@5</th>\n      <th>HR@10</th>\n      <th>NDCG@1</th>\n      <th>NDCG@3</th>\n      <th>NDCG@5</th>\n      <th>NDCG@10</th>\n    </tr>\n  </thead>\n  <tbody>\n    <tr>\n      <th>0</th>\n      <td>NetflixRecommender</td>\n      <td>0.045146</td>\n      <td>0.12186</td>\n      <td>0.164291</td>\n      <td>0.229124</td>\n      <td>0.045146</td>\n      <td>0.088881</td>\n      <td>0.106604</td>\n      <td>0.127288</td>\n    </tr>\n  </tbody>\n</table>"
     },
     "metadata": {},
     "output_type": "display_data"
    }
   ],
   "source": [
    "from recommenders.netflix_recommender import NetflixRecommender\n",
    "\n",
    "netflix_recommender = NetflixRecommender(embedding_dim=8, n_epochs=200, print_type='live')\n",
    "\n",
    "netflix_tts_results = [['NetflixRecommender'] + list(evaluate_train_test_split_implicit(\n",
    "    netflix_recommender, interactions_data, items))]\n",
    "\n",
    "netflix_tts_results = pd.DataFrame(\n",
    "    netflix_tts_results,\n",
    "    columns=['Recommender', 'HR@1', 'HR@3', 'HR@5', 'HR@10', 'NDCG@1', 'NDCG@3', 'NDCG@5', 'NDCG@10'])\n",
    "\n",
    "display(HTML(netflix_tts_results.to_html()))"
   ]
  },
  {
   "cell_type": "code",
   "execution_count": null,
   "id": "declared-howard",
   "metadata": {},
   "outputs": [],
   "source": []
  }
 ],
 "metadata": {
  "kernelspec": {
   "display_name": "Python 3",
   "language": "python",
   "name": "python3"
  },
  "language_info": {
   "codemirror_mode": {
    "name": "ipython",
    "version": 3
   },
   "file_extension": ".py",
   "mimetype": "text/x-python",
   "name": "python",
   "nbconvert_exporter": "python",
   "pygments_lexer": "ipython3",
   "version": "3.6.9"
  }
 },
 "nbformat": 4,
 "nbformat_minor": 5
}